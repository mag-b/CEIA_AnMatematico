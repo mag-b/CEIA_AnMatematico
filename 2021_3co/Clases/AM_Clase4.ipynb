{
  "nbformat": 4,
  "nbformat_minor": 0,
  "metadata": {
    "colab": {
      "name": "AM-Clase3.ipynb",
      "provenance": []
    },
    "kernelspec": {
      "name": "python3",
      "display_name": "Python 3"
    },
    "language_info": {
      "name": "python"
    }
  },
  "cells": [
    {
      "cell_type": "code",
      "metadata": {
        "colab": {
          "base_uri": "https://localhost:8080/"
        },
        "id": "f1L_6Dr8kMkM",
        "outputId": "3974eeab-cba9-4dcb-d699-68a0c43d456b"
      },
      "source": [
        "import numpy as np\n",
        "A= np.array([[1,2,3,4],[9,8,7,6],[2,2,3,3],[4,4,5,5]])\n",
        "A"
      ],
      "execution_count": 2,
      "outputs": [
        {
          "output_type": "execute_result",
          "data": {
            "text/plain": [
              "array([[1, 2, 3, 4],\n",
              "       [9, 8, 7, 6],\n",
              "       [2, 2, 3, 3],\n",
              "       [4, 4, 5, 5]])"
            ]
          },
          "metadata": {
            "tags": []
          },
          "execution_count": 2
        }
      ]
    },
    {
      "cell_type": "markdown",
      "metadata": {
        "id": "RTz4OBoFn9ZB"
      },
      "source": [
        "Cada columna de v es un auovector.\n",
        "Los autovalores estan ordenados en forma descendiente"
      ]
    },
    {
      "cell_type": "code",
      "metadata": {
        "colab": {
          "base_uri": "https://localhost:8080/"
        },
        "id": "UrBGP7uzkhTq",
        "outputId": "f0705f34-549d-4c3e-f41f-cf0f17ade695"
      },
      "source": [
        "L, v = np.linalg.eig(A)\n",
        "v[:,0] # Agarra la primera columna"
      ],
      "execution_count": 5,
      "outputs": [
        {
          "output_type": "execute_result",
          "data": {
            "text/plain": [
              "array([0.26909864, 0.79984762, 0.25709492, 0.47088417])"
            ]
          },
          "metadata": {
            "tags": []
          },
          "execution_count": 5
        }
      ]
    },
    {
      "cell_type": "code",
      "metadata": {
        "colab": {
          "base_uri": "https://localhost:8080/"
        },
        "id": "mOa1x-ewnmD5",
        "outputId": "d7e5ec9c-b229-4d27-9897-998d76874bf1"
      },
      "source": [
        "A.dot(v[:,0])# V[:,0] es el autovector asociado al primer autovalor"
      ],
      "execution_count": 6,
      "outputs": [
        {
          "output_type": "execute_result",
          "data": {
            "text/plain": [
              "array([ 4.52361534, 13.44563823,  4.32182981,  7.91568052])"
            ]
          },
          "metadata": {
            "tags": []
          },
          "execution_count": 6
        }
      ]
    },
    {
      "cell_type": "code",
      "metadata": {
        "colab": {
          "base_uri": "https://localhost:8080/"
        },
        "id": "hriQzg2Mnpr_",
        "outputId": "84b7b84c-b594-4528-beca-13f813ddd8ff"
      },
      "source": [
        "L[0]*v[:,0]"
      ],
      "execution_count": 7,
      "outputs": [
        {
          "output_type": "execute_result",
          "data": {
            "text/plain": [
              "array([ 4.52361534, 13.44563823,  4.32182981,  7.91568052])"
            ]
          },
          "metadata": {
            "tags": []
          },
          "execution_count": 7
        }
      ]
    },
    {
      "cell_type": "markdown",
      "metadata": {
        "id": "xZype906cb05"
      },
      "source": [
        "# Clase 3\n",
        "\n",
        "## Ejemplo de criptografía (cifrado de Hill)"
      ]
    },
    {
      "cell_type": "markdown",
      "metadata": {
        "id": "CNEKZzELciJZ"
      },
      "source": [
        "La idea es que queremos transformar nuestro mensaje mediante una transformación lineal para que quede codificado. Primero mapeamos el abecedario a el conjunto de enteros módulo 29: $Z_{29} = \\{0,1,\\ldots,28\\}$:\n",
        " \n",
        "A | B | C | D | E | F | G | H | I | J | L | K | M | N | O | P  | Q | R | S | T | U | V | W | X | Y | Z | ! | & | * \n",
        "--- | --- | --- | --- | ---   | --- | --- | --- | ---  | --- | ---  | ---  | --- | --- | --- | --- | --- | --- | --- | --- | --- | --- | --- | --- | --- | --- | --- | --- | --- \n",
        "00 | 01 | 02 | 03 | 04 | 05 | 06 | 07 | 08 | 09 | 10 | 11 | 12 | 13 | 14 | 15 | 16 | 17 | 18 | 19 | 20 | 21 | 22 | 23 | 24 | 25 | 26 | 27 | 28 \n"
      ]
    },
    {
      "cell_type": "markdown",
      "metadata": {
        "id": "TgM2kEVxhoU_"
      },
      "source": [
        "Supongamos que tenemos el mensaje: \"We need to go over the problem. Let us meet early at eight. Bring the package\". Y lo encriptamos con la matriz $A = \\left[\\begin{matrix} 20& 24& 16\\\\2 & 2& 20\\\\1&15&11\\end{matrix}\\right]$"
      ]
    },
    {
      "cell_type": "markdown",
      "metadata": {
        "id": "X5E6r5tOihd2"
      },
      "source": [
        "Armo mi mapeo:"
      ]
    },
    {
      "cell_type": "code",
      "metadata": {
        "id": "24bVL1adcbDj"
      },
      "source": [
        "transf = {'A':0, 'B':1, 'C':2, 'D':3, 'E':4, 'F':5, 'G':6, 'H':7, 'I':8, 'J':9, 'K':10, 'L':11, 'M':12, 'N':13, \n",
        "          'O':14, 'P':15, 'Q':16, 'R':17, 'S':18, 'T':19, 'U':20, 'V':21, 'W':22, 'X':23, 'Y':24, 'Z':25, '!':26, '&':27, '*':28}\n",
        "inv_transf = {value : key for (key, value) in transf.items()}"
      ],
      "execution_count": 8,
      "outputs": []
    },
    {
      "cell_type": "code",
      "metadata": {
        "id": "w1c823jsjqHe"
      },
      "source": [
        "import numpy as np"
      ],
      "execution_count": null,
      "outputs": []
    },
    {
      "cell_type": "code",
      "metadata": {
        "colab": {
          "base_uri": "https://localhost:8080/"
        },
        "id": "lNU1245VjsEQ",
        "outputId": "22b41c32-d08f-4c75-fe13-c36be0505e3d"
      },
      "source": [
        "#X = 'WENEEDTOGOOVERTHEPROBLEMLETUSMEETEATYATEIGHTBRINGTHEPACKAGE'\n",
        "X = 'LETUSMEETEARLYATEIGHT'\n",
        "Xtransf = np.array([transf[x]%29  for x in X])\n",
        "#Xtransf = Xtransf[:-2]\n",
        "Xtransf = Xtransf[:,np.newaxis].reshape(-1,3).T\n",
        "Xtransf         "
      ],
      "execution_count": 9,
      "outputs": [
        {
          "output_type": "execute_result",
          "data": {
            "text/plain": [
              "array([[11, 20,  4,  4, 11, 19,  6],\n",
              "       [ 4, 18,  4,  0, 24,  4,  7],\n",
              "       [19, 12, 19, 17,  0,  8, 19]])"
            ]
          },
          "metadata": {
            "tags": []
          },
          "execution_count": 9
        }
      ]
    },
    {
      "cell_type": "code",
      "metadata": {
        "id": "n79lTHW-LqTs"
      },
      "source": [
        "A = np.array([[20, 24, 16],[2,2,20],[1,15,11]])"
      ],
      "execution_count": null,
      "outputs": []
    },
    {
      "cell_type": "code",
      "metadata": {
        "colab": {
          "base_uri": "https://localhost:8080/"
        },
        "id": "sFkrytErmUkS",
        "outputId": "841dd1c6-0b3a-4bd3-e65d-4ed04be2104a"
      },
      "source": [
        "mapeo = A.dot(Xtransf)%29 \n",
        "mapeo"
      ],
      "execution_count": null,
      "outputs": [
        {
          "output_type": "execute_result",
          "data": {
            "text/plain": [
              "array([[11,  9, 16,  4, 13, 24, 12],\n",
              "       [ 4, 26, 19,  0, 12,  3,  0],\n",
              "       [19, 16, 12, 17, 23, 22,  1]])"
            ]
          },
          "metadata": {
            "tags": []
          },
          "execution_count": 77
        }
      ]
    },
    {
      "cell_type": "code",
      "metadata": {
        "colab": {
          "base_uri": "https://localhost:8080/",
          "height": 36
        },
        "id": "qjW1TQXzmyAi",
        "outputId": "d545c500-3112-423a-ebcb-46eaf4af7333"
      },
      "source": [
        "text = [inv_transf[xx] for x in mapeo.T for xx in x ]\n",
        "text_join = \"\"\n",
        "for k in range(len(text)):\n",
        "  text_join += text[k]\n",
        "text_join"
      ],
      "execution_count": null,
      "outputs": [
        {
          "output_type": "execute_result",
          "data": {
            "application/vnd.google.colaboratory.intrinsic+json": {
              "type": "string"
            },
            "text/plain": [
              "'LETJ!QQTMEARNMXYDWMAB'"
            ]
          },
          "metadata": {
            "tags": []
          },
          "execution_count": 78
        }
      ]
    },
    {
      "cell_type": "markdown",
      "metadata": {
        "id": "MOWLxttk806s"
      },
      "source": [
        "## Ejemplo SVD"
      ]
    },
    {
      "cell_type": "code",
      "metadata": {
        "id": "-GFnRAAnrZ_a"
      },
      "source": [
        "import numpy as np\n",
        "from scipy.linalg import hankel\n",
        "import matplotlib.pyplot as plt"
      ],
      "execution_count": 10,
      "outputs": []
    },
    {
      "cell_type": "code",
      "metadata": {
        "id": "6UwgXypK9U9N",
        "colab": {
          "base_uri": "https://localhost:8080/"
        },
        "outputId": "a52e7ef3-c727-4088-c854-f4d4fe8b3484"
      },
      "source": [
        "A = np.array([[1 , -0.8],[0,1],[1,0]])\n",
        "A"
      ],
      "execution_count": 11,
      "outputs": [
        {
          "output_type": "execute_result",
          "data": {
            "text/plain": [
              "array([[ 1. , -0.8],\n",
              "       [ 0. ,  1. ],\n",
              "       [ 1. ,  0. ]])"
            ]
          },
          "metadata": {
            "tags": []
          },
          "execution_count": 11
        }
      ]
    },
    {
      "cell_type": "code",
      "metadata": {
        "id": "-sjubG9d2b3_"
      },
      "source": [
        "U, s, Vt = np.linalg.svd(A)"
      ],
      "execution_count": 12,
      "outputs": []
    },
    {
      "cell_type": "code",
      "metadata": {
        "colab": {
          "base_uri": "https://localhost:8080/"
        },
        "id": "R_d1PUTw2krh",
        "outputId": "df49146c-794f-49bb-f7d6-f7848d8d3eed"
      },
      "source": [
        "U"
      ],
      "execution_count": 13,
      "outputs": [
        {
          "output_type": "execute_result",
          "data": {
            "text/plain": [
              "array([[-7.88170109e-01,  1.87057766e-16, -6.15457455e-01],\n",
              "       [ 3.84473224e-01, -7.80868809e-01, -4.92365964e-01],\n",
              "       [-4.80591530e-01, -6.24695048e-01,  6.15457455e-01]])"
            ]
          },
          "metadata": {
            "tags": []
          },
          "execution_count": 13
        }
      ]
    },
    {
      "cell_type": "code",
      "metadata": {
        "colab": {
          "base_uri": "https://localhost:8080/"
        },
        "id": "gH3GeNPa2obh",
        "outputId": "14fb6c0b-028e-4388-ea8f-185a9cadc4db"
      },
      "source": [
        "s"
      ],
      "execution_count": 14,
      "outputs": [
        {
          "output_type": "execute_result",
          "data": {
            "text/plain": [
              "array([1.62480768, 1.        ])"
            ]
          },
          "metadata": {
            "tags": []
          },
          "execution_count": 14
        }
      ]
    },
    {
      "cell_type": "code",
      "metadata": {
        "colab": {
          "base_uri": "https://localhost:8080/"
        },
        "id": "3aSKK4VK2rYQ",
        "outputId": "9cff179e-85a8-4753-cb89-1fd2877e0ff7"
      },
      "source": [
        "Vt.T"
      ],
      "execution_count": 15,
      "outputs": [
        {
          "output_type": "execute_result",
          "data": {
            "text/plain": [
              "array([[-0.78086881, -0.62469505],\n",
              "       [ 0.62469505, -0.78086881]])"
            ]
          },
          "metadata": {
            "tags": []
          },
          "execution_count": 15
        }
      ]
    },
    {
      "cell_type": "code",
      "metadata": {
        "colab": {
          "base_uri": "https://localhost:8080/"
        },
        "id": "F83calIW2yYo",
        "outputId": "9a2537b8-d5d7-48c1-e143-92a5f32d3262"
      },
      "source": [
        "sigma = np.array([[s[0], 0], [0, s[1]], [0,0]])\n",
        "sigma"
      ],
      "execution_count": 18,
      "outputs": [
        {
          "output_type": "execute_result",
          "data": {
            "text/plain": [
              "array([[1.62480768, 0.        ],\n",
              "       [0.        , 1.        ],\n",
              "       [0.        , 0.        ]])"
            ]
          },
          "metadata": {
            "tags": []
          },
          "execution_count": 18
        }
      ]
    },
    {
      "cell_type": "code",
      "metadata": {
        "colab": {
          "base_uri": "https://localhost:8080/"
        },
        "id": "yzquJfPF3D_G",
        "outputId": "2fe09b91-0351-4f8d-9916-9d3d9e8431d9"
      },
      "source": [
        "U.dot(sigma).dot(Vt)"
      ],
      "execution_count": 19,
      "outputs": [
        {
          "output_type": "execute_result",
          "data": {
            "text/plain": [
              "array([[ 1.00000000e+00, -8.00000000e-01],\n",
              "       [-4.65772916e-17,  1.00000000e+00],\n",
              "       [ 1.00000000e+00,  6.79398502e-17]])"
            ]
          },
          "metadata": {
            "tags": []
          },
          "execution_count": 19
        }
      ]
    },
    {
      "cell_type": "code",
      "metadata": {
        "id": "gJ7JdPXo3Oo_"
      },
      "source": [
        "Ur, sr, Vt = np.linalg.svd(A,full_matrices=False)"
      ],
      "execution_count": 21,
      "outputs": []
    },
    {
      "cell_type": "code",
      "metadata": {
        "colab": {
          "base_uri": "https://localhost:8080/"
        },
        "id": "5zlr-82h3cLk",
        "outputId": "07bae6ad-0533-48a3-bf21-1ea3d0c003d1"
      },
      "source": [
        "Ur"
      ],
      "execution_count": 22,
      "outputs": [
        {
          "output_type": "execute_result",
          "data": {
            "text/plain": [
              "array([[-7.88170109e-01,  1.87057766e-16],\n",
              "       [ 3.84473224e-01, -7.80868809e-01],\n",
              "       [-4.80591530e-01, -6.24695048e-01]])"
            ]
          },
          "metadata": {
            "tags": []
          },
          "execution_count": 22
        }
      ]
    },
    {
      "cell_type": "code",
      "metadata": {
        "colab": {
          "base_uri": "https://localhost:8080/"
        },
        "id": "4Nzk02g93kGw",
        "outputId": "f6874eaf-22fa-41b6-d77f-e8e5c9afef77"
      },
      "source": [
        "sr"
      ],
      "execution_count": 23,
      "outputs": [
        {
          "output_type": "execute_result",
          "data": {
            "text/plain": [
              "array([1.62480768, 1.        ])"
            ]
          },
          "metadata": {
            "tags": []
          },
          "execution_count": 23
        }
      ]
    },
    {
      "cell_type": "code",
      "metadata": {
        "colab": {
          "base_uri": "https://localhost:8080/"
        },
        "id": "e6nfQLeu3lk5",
        "outputId": "6b440a0f-b580-42c6-e3a0-f7fdd33d71aa"
      },
      "source": [
        "Ur.dot(np.diag(sr)).dot(Vt)"
      ],
      "execution_count": 24,
      "outputs": [
        {
          "output_type": "execute_result",
          "data": {
            "text/plain": [
              "array([[ 1.00000000e+00, -8.00000000e-01],\n",
              "       [-4.65772916e-17,  1.00000000e+00],\n",
              "       [ 1.00000000e+00,  6.79398502e-17]])"
            ]
          },
          "metadata": {
            "tags": []
          },
          "execution_count": 24
        }
      ]
    },
    {
      "cell_type": "markdown",
      "metadata": {
        "id": "9e76xw4S9FzF"
      },
      "source": [
        "PageRank"
      ]
    },
    {
      "cell_type": "code",
      "metadata": {
        "colab": {
          "base_uri": "https://localhost:8080/"
        },
        "id": "dcpTm5kN9FOE",
        "outputId": "34f663e2-b633-4b6f-a455-2fcb909a8505"
      },
      "source": [
        "A = np.array([[0,0,1/2,1/2],[1,0,0,1/2],[0,1/2,0,0,],[0,1/2,1/2,0]])\n",
        "A"
      ],
      "execution_count": 25,
      "outputs": [
        {
          "output_type": "execute_result",
          "data": {
            "text/plain": [
              "array([[0. , 0. , 0.5, 0.5],\n",
              "       [1. , 0. , 0. , 0.5],\n",
              "       [0. , 0.5, 0. , 0. ],\n",
              "       [0. , 0.5, 0.5, 0. ]])"
            ]
          },
          "metadata": {
            "tags": []
          },
          "execution_count": 25
        }
      ]
    },
    {
      "cell_type": "code",
      "metadata": {
        "id": "ynjRrE_n9U5z"
      },
      "source": [
        "l, v = np.linalg.eig(A)"
      ],
      "execution_count": 26,
      "outputs": []
    },
    {
      "cell_type": "code",
      "metadata": {
        "colab": {
          "base_uri": "https://localhost:8080/"
        },
        "id": "MT92IDgw9cEe",
        "outputId": "ffa833e5-fb19-48ef-b8c8-05ee0c2dffee"
      },
      "source": [
        "l"
      ],
      "execution_count": 27,
      "outputs": [
        {
          "output_type": "execute_result",
          "data": {
            "text/plain": [
              "array([ 1.        +0.j        , -0.39246007+0.65357064j,\n",
              "       -0.39246007-0.65357064j, -0.21507985+0.j        ])"
            ]
          },
          "metadata": {
            "tags": []
          },
          "execution_count": 27
        }
      ]
    },
    {
      "cell_type": "code",
      "metadata": {
        "colab": {
          "base_uri": "https://localhost:8080/"
        },
        "id": "-QWdx5s99fXG",
        "outputId": "900ac8b8-cad6-43c9-fb6d-b8b5b8e65652"
      },
      "source": [
        "v[:,0].real\n",
        "R = v[:,0].real/sum(v[:,0]).real\n",
        "R\n"
      ],
      "execution_count": 35,
      "outputs": [
        {
          "output_type": "execute_result",
          "data": {
            "text/plain": [
              "array([0.2173913 , 0.34782609, 0.17391304, 0.26086957])"
            ]
          },
          "metadata": {
            "tags": []
          },
          "execution_count": 35
        }
      ]
    },
    {
      "cell_type": "markdown",
      "metadata": {
        "id": "FxSlaAK5_dCU"
      },
      "source": [
        "##  Ejemplo Pseudoinversa"
      ]
    },
    {
      "cell_type": "markdown",
      "metadata": {
        "id": "Sa-V5o_kNW3G"
      },
      "source": [
        "Al analizar series de tiempo, un modelo AR(k) es aquel que se puede modelar como\n",
        "$$x_{n+1} = \\alpha_0 x_n + \\ldots + \\alpha_kx_{n-k} + \\xi_{n+1}$$\n",
        "donde $\\xi_{n}$ es una secuencia de ruido con distribución gaussiana de media nula."
      ]
    },
    {
      "cell_type": "code",
      "metadata": {
        "id": "crQkQfFBNWVQ"
      },
      "source": [
        "from statsmodels.tsa.arima_process import arma_generate_sample"
      ],
      "execution_count": null,
      "outputs": []
    },
    {
      "cell_type": "code",
      "metadata": {
        "colab": {
          "base_uri": "https://localhost:8080/",
          "height": 283
        },
        "id": "3EaVc5lpC8dd",
        "outputId": "950ca6fe-8e61-4b45-b8ee-e4ef56171224"
      },
      "source": [
        "x = arma_generate_sample([1,-.8,.2,.1],[1],sigma=0.1,nsample=100, burnin=3)\n",
        "plt.plot(x)"
      ],
      "execution_count": null,
      "outputs": [
        {
          "output_type": "execute_result",
          "data": {
            "text/plain": [
              "[<matplotlib.lines.Line2D at 0x7fa880036210>]"
            ]
          },
          "metadata": {
            "tags": []
          },
          "execution_count": 325
        },
        {
          "output_type": "display_data",
          "data": {
            "image/png": "[encoded data removed]",
            "text/plain": [
              "<Figure size 432x288 with 1 Axes>"
            ]
          },
          "metadata": {
            "tags": [],
            "needs_background": "light"
          }
        }
      ]
    },
    {
      "cell_type": "code",
      "metadata": {
        "id": "UCnKpbOp_i9A"
      },
      "source": [
        "A = hankel(x[::-1][1:])[:-3,:4]"
      ],
      "execution_count": null,
      "outputs": []
    },
    {
      "cell_type": "code",
      "metadata": {
        "id": "Tca6XFe3AVZN"
      },
      "source": [
        "p_hat = np.linalg.pinv(A).dot(x[::-1][:-4])\n",
        "y_hat = A.dot(p_hat)"
      ],
      "execution_count": null,
      "outputs": []
    },
    {
      "cell_type": "code",
      "metadata": {
        "colab": {
          "base_uri": "https://localhost:8080/"
        },
        "id": "DAwf1GhGAWM7",
        "outputId": "d247d445-857c-4843-f3f7-36437c858b56"
      },
      "source": [
        "p_hat"
      ],
      "execution_count": null,
      "outputs": [
        {
          "output_type": "execute_result",
          "data": {
            "text/plain": [
              "array([ 0.74546229, -0.20067351, -0.20438889,  0.0674205 ])"
            ]
          },
          "metadata": {
            "tags": []
          },
          "execution_count": 328
        }
      ]
    },
    {
      "cell_type": "code",
      "metadata": {
        "colab": {
          "base_uri": "https://localhost:8080/",
          "height": 283
        },
        "id": "y8jSLcaMBmjL",
        "outputId": "55a49071-9fe3-4b0e-a48a-c09759eed1ef"
      },
      "source": [
        "plt.plot(x[4:],label='verdadera'); plt.plot(y_hat[::-1],label='Estimada'); plt.legend()"
      ],
      "execution_count": null,
      "outputs": [
        {
          "output_type": "execute_result",
          "data": {
            "text/plain": [
              "<matplotlib.legend.Legend at 0x7fa880041990>"
            ]
          },
          "metadata": {
            "tags": []
          },
          "execution_count": 329
        },
        {
          "output_type": "display_data",
          "data": {
            "image/png": "[encoded data removed]",
            "text/plain": [
              "<Figure size 432x288 with 1 Axes>"
            ]
          },
          "metadata": {
            "tags": [],
            "needs_background": "light"
          }
        }
      ]
    },
    {
      "cell_type": "code",
      "metadata": {
        "id": "3PgPxSCEVBGw"
      },
      "source": [
        ""
      ],
      "execution_count": null,
      "outputs": []
    }
  ]
}