{
 "cells": [
  {
   "cell_type": "markdown",
   "metadata": {},
   "source": [
    "# Brevisima introducción a Python\n",
    "\n",
    "El objetivo de estas notas es explicar brevemente como utilizar Python como una herramienta a la materia de Probabilidad y estadística. En el mismo se va a explicar como armar vectores, hacer algunos cálculos básicos relevantes a la materia como por ejemplo cálculo de medias y desvíos muestrales, así como también calculo de cuantiles. Además se explicará muy brevemente las herramientas para graficar y cálculo de histogramas. \n",
    "\n",
    "## Preliminares\n",
    "\n",
    "### Instalación de Python\n",
    "\n",
    "Antes de empezar a trabajar con Python, es necesario verificar que tengamos una distribución de Python instalada en nuestra computadora. \n",
    "\n",
    "- Windows:\n",
    "\n",
    "  Abrimos una consola de Windows (Command Prompt - cmd) y escribimos\n",
    "\n",
    "  ```\n",
    "  python\n",
    "  ```\n",
    "\n",
    "  Si el sistema reconoce el comando correctamente debería aparecer algo del estilo:\n",
    "\n",
    "  ```\n",
    "  Python 3.7.0 (v3.7.0:1bf9cc5093, Jan 25 2019, 07:44:31) [MSC v.1914 64 bit (AMD64)] on win32\n",
    "  Type \"help\", \"copyright\", \"credits\" or \"license\" for more information\n",
    "  ```\n",
    "\n",
    "  Si no se posee instalación de Python recomiendo instalarlo a través de la distribución Anaconda (https://www.anaconda.com/products/individual). \n",
    "\n",
    "- Linux: viene con una versión de Python nativa. También se puede descargar Anaconda para mantener separadas las instalaciones.  Además de esta forma podemos elegir la versión de Python que deseamos. \n",
    "\n",
    "Si descargan Anaconda, ya incluye el programa Spyder, un IDE (*integrated development environment*) que provee interfaz gráfica, de forma que podemos escribir el código directamente en un archivo (¡y guardarlo!) para luego correrlo, todo en la misma plataforma. El Spyder se usa de forma análoga al RStudio.  También existen otros IDEs como Pycharm  (https://www.jetbrains.com/pycharm/), aunque no lo recomiendo para principiantes ya que hay que configurar varias cosas antes de poder arrancar. \n",
    "\n",
    "### Descarga de paquetes\n",
    "\n",
    "Para poder sacarle el jugo a Python es necesario instalar varias librerías. Si te bajaste Anaconda, podes saltearte este paso ya que las librerías que vamos a necesitar ya vienen instaladas.  Si no lo descargaste, vas a tener que hacer la instalación via Pip, para lo cual vas a tener que instalar el sistema:\n",
    "\n",
    "- Ubuntu:  Abrimos una terminal y escribimos\t\n",
    "\n",
    "  ```\n",
    "  apt install python3-pip\t\n",
    "  ```\n",
    "\n",
    "- Windows: (https://phoenixnap.com/kb/install-pip-windows) \n",
    "\n",
    "  - Primero debemos bajar el archivo [get-pip.py on pypa.io](https://bootstrap.pypa.io/get-pip.py) \n",
    "  - Luego, abrimos una consola de Windows y escribimos\n",
    "\n",
    "  ```\n",
    "  python get-pip.py\n",
    "  ```\n",
    "\n",
    "  Si esta acción devuelve error, es posible que haya que abrir la consola como administrador.\n",
    "\n",
    "Algunas de las librerías que vamos a utilizar:\n",
    "\n",
    "- NumPy:  da soporte para trabajar con vectores y matrices, así como diversas funciones matemáticas que operan sobre ellos.  Instrucciones de instalación para distintos sistemas operativos: https://numpy.org/install/\n",
    "- SciPy: se compone de herramientas y algoritmos matemáticos. Contiene módulos de estadística, optimización,  álgebra lineal, entre muchas otras. Instrucciones de instalación:  https://www.scipy.org/install.html\n",
    "- Matplotlib: librería utilizada para graficar.  Instrucciones de instalación: https://matplotlib.org/users/installing.html\n",
    "\n",
    "Existen muchas otras librarías muy útiles, pero estas son las básicas que vamos a necesitar para generar muestras aleatorias y poder graficar histogramas. \n",
    "\n",
    "En [este link](https://towardsdatascience.com/the-ultimate-beginners-guide-to-numpy-f5a2f99aef54) hay un buen resumen de como arrancar a utilizar Numpy y los distintos tipos de datos. \n",
    "\n",
    "## Ahora si, comencemos a programar!\n",
    "\n",
    "Si se desea se puede trabajar directamente en la consola para hacer los cálculos, pero lo más práctico es escribir un código, o *script*, con todos los comandos para poder usarlo todas las veces que haga falta.  Un código o *script* es, entonces,  un conjunto de comandos que uno puede generar y guardar como archivo de extensión “.py” para no tener la necesidad de volver a tipear todas las órdenes una y otra vez. \n",
    "\n",
    "Si te bajase el Spyder, la ventana se va a ver algo así\n",
    "![Spder IDE](spyder.png)"
   ]
  },
  {
   "cell_type": "markdown",
   "metadata": {},
   "source": [
    "\n",
    "\n",
    "#### Asignación de valores a una variable.\n",
    "\n",
    "En Python existen distintos tipos de datos, en este caso nos vamos a concentrar en definir variables constantes, es decir que contengan un único valor, listas, y en vectores, o *arrays*. Existen muchos otros tipos de datos que resultan útiles, pero que no vamos a estar necesitando por ahora.\n",
    "\n",
    "Para definir constantes, basta con asignarle el valor a una variable utilizando el símbolo `=`"
   ]
  },
  {
   "cell_type": "code",
   "execution_count": 487,
   "metadata": {},
   "outputs": [],
   "source": [
    "x = 2\n",
    "y = 1.56\n",
    "z= 'a'"
   ]
  },
  {
   "cell_type": "markdown",
   "metadata": {},
   "source": [
    "Las listas sirven para guardar distintos objetos en una única variable.  Son nativas de Python y no necesitan de ninguna librería para poder usarlas.  La lista se define a partir de una secuencia de elementos entre corchetes, separados por una \",\":"
   ]
  },
  {
   "cell_type": "code",
   "execution_count": 488,
   "metadata": {},
   "outputs": [],
   "source": [
    "x = [1, 2, 1, 3, 5]\n",
    "y = [\"gato\", \"perro\", \"loro\"]\n",
    "z = [[1.1,1.2], [2.1,2.2], [0,1,2,3,6],[\"a\", \"b\"]]"
   ]
  },
  {
   "cell_type": "markdown",
   "metadata": {},
   "source": [
    "Las listas son muy útiles para definir conjuntos de objetos, sin embargo una desventaja que poseen es que no están  definidas las funciones ariméticas básicas sobre listas, después de todo ¿que significaría decir \"gato\"+\"perro\"+\"loro\"?. "
   ]
  },
  {
   "cell_type": "markdown",
   "metadata": {},
   "source": [
    "Para poder definir y operar con vectores y matrices, vamos a  utilizar la librería Numpy. En este caso, los vectores (y  matrices) se van a representar con lo que se llaman *arrays*. Estos objetos vienen previstos de las operaciones aritméticas básicas (suma, resta multiplicación y división) que operan componente a componente, junto con muchas otras funciones que permiten realizar diversas operaciones matriciales, entre muchas otras. \n",
    "\n",
    "Lo primero que debemos hacer es importar la librería"
   ]
  },
  {
   "cell_type": "code",
   "execution_count": 489,
   "metadata": {},
   "outputs": [],
   "source": [
    "import numpy as np"
   ]
  },
  {
   "cell_type": "markdown",
   "metadata": {},
   "source": [
    "La sintaxis general para importar cualquier librería (que tengamos instalada) es `import ` [*libreria*] `as` [*nombre*] , donde [*libreria*] es en nombre de la librería que queremos  importar y [*nombre*] es el nombre que vamos a utilizar para llamar a la librería en nuestro código. En verdad, basta  con `import`[*libreria*], pero, como van a ir notando,  adjudicarle un nombre más corto simplifica mucho la escritura y lectura del código.\n",
    "\n",
    "Si queremos, por ejemplo, armar el vector $x=[1,2,3,4]$ lo hacemos de la forma"
   ]
  },
  {
   "cell_type": "code",
   "execution_count": 490,
   "metadata": {},
   "outputs": [],
   "source": [
    "x = np.array([1,2,3,4])"
   ]
  },
  {
   "cell_type": "markdown",
   "metadata": {},
   "source": [
    "o "
   ]
  },
  {
   "cell_type": "code",
   "execution_count": 491,
   "metadata": {},
   "outputs": [
    {
     "name": "stdout",
     "output_type": "stream",
     "text": [
      "[1 2 3 4 5 6]\n"
     ]
    }
   ],
   "source": [
    "x = np.arange(1,7)\n",
    "print(x)"
   ]
  },
  {
   "cell_type": "markdown",
   "metadata": {},
   "source": [
    "la función `np.arange(start, stop)` es muy útil  ya que genera una secuencia de números enteros que van desde `start` hasta `stop -1`. También habrán notado que usé la función `print`, la cual simplemente me imprime en la consola el valor de la variable.\n",
    "\n",
    "Si en cambio quisiera definir una matriz, por ejemplo $A = \\left[\\begin{matrix} 1 & 2 & 3 & 4 \\\\ 5 & 6 & 7 & 8 \\\\ 9 & 10 & 11 & 12 \\end{matrix}\\right]$, puedo hacerlo como"
   ]
  },
  {
   "cell_type": "code",
   "execution_count": 492,
   "metadata": {},
   "outputs": [],
   "source": [
    "A = np.array([[1,2,3,4], [5,6,7,8], [9,10,11,12]])"
   ]
  },
  {
   "cell_type": "markdown",
   "metadata": {},
   "source": [
    "Para definir la matriz, se pasa una lista correspondiente a cada fila, separando cada lista por una coma `,`.  \n",
    "\n",
    "La librería Numpy posee diversas funciones. En la [esta](https://www.datacamp.com/community/blog/python-numpy-cheat-sheet) pagina, se encuentra un gráfico con un breve resumen de algunas de las funciones que trae Numpy y cómo operar con los vectores (arrays).\n",
    "\n",
    "Para acceder a un elemento, o subconjunto de elementos, de los vectores (o matrices) simplemente indicamos los índices deseados entre corchetes `[]`. Recordar que, a diferencia de por ejemplo R, en Python los índices comienzan a contarse desde 0. Si queremos la primera posición de `x` "
   ]
  },
  {
   "cell_type": "code",
   "execution_count": 493,
   "metadata": {},
   "outputs": [
    {
     "data": {
      "text/plain": [
       "1"
      ]
     },
     "execution_count": 493,
     "metadata": {},
     "output_type": "execute_result"
    }
   ],
   "source": [
    "x[0] # accedo a la primera posición"
   ]
  },
  {
   "cell_type": "code",
   "execution_count": 494,
   "metadata": {},
   "outputs": [
    {
     "data": {
      "text/plain": [
       "6"
      ]
     },
     "execution_count": 494,
     "metadata": {},
     "output_type": "execute_result"
    }
   ],
   "source": [
    "x[-1] # accedo a la última posición del vector"
   ]
  },
  {
   "cell_type": "markdown",
   "metadata": {},
   "source": [
    "Puedo pedir también un subconjunto de de índices,"
   ]
  },
  {
   "cell_type": "code",
   "execution_count": 495,
   "metadata": {},
   "outputs": [
    {
     "data": {
      "text/plain": [
       "array([1, 2, 6])"
      ]
     },
     "execution_count": 495,
     "metadata": {},
     "output_type": "execute_result"
    }
   ],
   "source": [
    "x[[0,1,5]]"
   ]
  },
  {
   "cell_type": "markdown",
   "metadata": {},
   "source": [
    "obtener todos los elementos hasta una cierta posición, "
   ]
  },
  {
   "cell_type": "code",
   "execution_count": 496,
   "metadata": {},
   "outputs": [
    {
     "data": {
      "text/plain": [
       "array([1, 2])"
      ]
     },
     "execution_count": 496,
     "metadata": {},
     "output_type": "execute_result"
    }
   ],
   "source": [
    "x[:2] # me devuelve hasta la posicion 2, es equivalente a  x[[0,1]]"
   ]
  },
  {
   "cell_type": "markdown",
   "metadata": {},
   "source": [
    "recuperar los elementos desde un índice en adelante,"
   ]
  },
  {
   "cell_type": "code",
   "execution_count": 497,
   "metadata": {},
   "outputs": [
    {
     "data": {
      "text/plain": [
       "array([3, 4, 5, 6])"
      ]
     },
     "execution_count": 497,
     "metadata": {},
     "output_type": "execute_result"
    }
   ],
   "source": [
    "x[2:] # devuelve desde el índice 2 hasta el final del vector, equivale a x[[2,3,4,5,5]]"
   ]
  },
  {
   "cell_type": "code",
   "execution_count": 498,
   "metadata": {},
   "outputs": [
    {
     "data": {
      "text/plain": [
       "array([5, 6])"
      ]
     },
     "execution_count": 498,
     "metadata": {},
     "output_type": "execute_result"
    }
   ],
   "source": [
    "x[-2:] # devuelve de la anteúltima posición hasta el final del vector"
   ]
  },
  {
   "cell_type": "markdown",
   "metadata": {},
   "source": [
    "o puedo querer ir desde un índice a otro."
   ]
  },
  {
   "cell_type": "code",
   "execution_count": 499,
   "metadata": {},
   "outputs": [
    {
     "data": {
      "text/plain": [
       "array([3, 4, 5])"
      ]
     },
     "execution_count": 499,
     "metadata": {},
     "output_type": "execute_result"
    }
   ],
   "source": [
    "x[2:5] # devuelce desde el índice 2 hasta el 4, equivale a x[[2,3,4]]"
   ]
  },
  {
   "cell_type": "markdown",
   "metadata": {},
   "source": [
    "Observar que al pedir `x[a:b]` me devuelve los índices `a` hasta `b-1`(inclusive)"
   ]
  },
  {
   "cell_type": "markdown",
   "metadata": {},
   "source": [
    "Con las matrices la forma de acceder a una posición es equivalente, sólo que debemos indicar los números de filas y los de columnas. La sintaxis es `A[filas, columnas]` donde en `filas` y  `columnas` podemos usar cualquiera de las sintaxis vistas para vectores. Por ejemplo:"
   ]
  },
  {
   "cell_type": "code",
   "execution_count": 500,
   "metadata": {},
   "outputs": [
    {
     "data": {
      "text/plain": [
       "array([[ 6,  7,  8],\n",
       "       [10, 11, 12]])"
      ]
     },
     "execution_count": 500,
     "metadata": {},
     "output_type": "execute_result"
    }
   ],
   "source": [
    "A[1:3,1:] #Accedemos a los elementos [1,1], [1,2], [1:3], [2,1],[2,2], [2,3] de la matriz"
   ]
  },
  {
   "cell_type": "markdown",
   "metadata": {},
   "source": [
    "Para conocer las dimensiones de un vector una matriz basta con llamar a la función `shape`. Esto se puede hacer de dos formas"
   ]
  },
  {
   "cell_type": "code",
   "execution_count": 501,
   "metadata": {},
   "outputs": [
    {
     "data": {
      "text/plain": [
       "(6,)"
      ]
     },
     "execution_count": 501,
     "metadata": {},
     "output_type": "execute_result"
    }
   ],
   "source": [
    "np.shape(x)"
   ]
  },
  {
   "cell_type": "markdown",
   "metadata": {},
   "source": [
    "o bien"
   ]
  },
  {
   "cell_type": "code",
   "execution_count": 502,
   "metadata": {},
   "outputs": [
    {
     "data": {
      "text/plain": [
       "(6,)"
      ]
     },
     "execution_count": 502,
     "metadata": {},
     "output_type": "execute_result"
    }
   ],
   "source": [
    "x.shape"
   ]
  },
  {
   "cell_type": "code",
   "execution_count": 503,
   "metadata": {},
   "outputs": [
    {
     "data": {
      "text/plain": [
       "(3, 4)"
      ]
     },
     "execution_count": 503,
     "metadata": {},
     "output_type": "execute_result"
    }
   ],
   "source": [
    "A.shape"
   ]
  },
  {
   "cell_type": "markdown",
   "metadata": {},
   "source": [
    "#### Operaciones con vectores y matrices\n",
    "\n",
    "Las operaciones básicas, (+,-,\\*,/) que están definidas sobre los *arrays*, operan componente a componente. \n"
   ]
  },
  {
   "cell_type": "code",
   "execution_count": 504,
   "metadata": {},
   "outputs": [
    {
     "data": {
      "text/plain": [
       "array([6, 3, 9, 8])"
      ]
     },
     "execution_count": 504,
     "metadata": {},
     "output_type": "execute_result"
    }
   ],
   "source": [
    "x = np.array([1,2,3,4])\n",
    "y = np.array([5,1,6,4])\n",
    "x+y"
   ]
  },
  {
   "cell_type": "code",
   "execution_count": 505,
   "metadata": {},
   "outputs": [
    {
     "data": {
      "text/plain": [
       "array([ 5,  2, 18, 16])"
      ]
     },
     "execution_count": 505,
     "metadata": {},
     "output_type": "execute_result"
    }
   ],
   "source": [
    "x*y"
   ]
  },
  {
   "cell_type": "code",
   "execution_count": 506,
   "metadata": {},
   "outputs": [
    {
     "data": {
      "text/plain": [
       "array([ 1,  4,  9, 16], dtype=int32)"
      ]
     },
     "execution_count": 506,
     "metadata": {},
     "output_type": "execute_result"
    }
   ],
   "source": [
    "x**2 # elevo cada componene del vector al cuadrado"
   ]
  },
  {
   "cell_type": "code",
   "execution_count": 507,
   "metadata": {},
   "outputs": [
    {
     "name": "stdout",
     "output_type": "stream",
     "text": [
      "[[0 1 2]\n",
      " [3 4 5]\n",
      " [6 7 8]]\n",
      "[[ 0 10 20]\n",
      " [30 40 50]\n",
      " [60 70 80]]\n"
     ]
    }
   ],
   "source": [
    "A = np.array([[0,1,2],[3,4,5],[6,7,8]])\n",
    "B = np.array([[0,10,20],[30,40,50],[60,70,80]])\n",
    "print(A)\n",
    "print(B)"
   ]
  },
  {
   "cell_type": "code",
   "execution_count": 508,
   "metadata": {},
   "outputs": [
    {
     "data": {
      "text/plain": [
       "array([[ 0, 11, 22],\n",
       "       [33, 44, 55],\n",
       "       [66, 77, 88]])"
      ]
     },
     "execution_count": 508,
     "metadata": {},
     "output_type": "execute_result"
    }
   ],
   "source": [
    "A+B"
   ]
  },
  {
   "cell_type": "code",
   "execution_count": 509,
   "metadata": {},
   "outputs": [
    {
     "data": {
      "text/plain": [
       "array([[  0,  10,  40],\n",
       "       [ 90, 160, 250],\n",
       "       [360, 490, 640]])"
      ]
     },
     "execution_count": 509,
     "metadata": {},
     "output_type": "execute_result"
    }
   ],
   "source": [
    "A*B"
   ]
  },
  {
   "cell_type": "markdown",
   "metadata": {},
   "source": [
    "Si queremos trasponer una matriz existen dos formas de escribirlo"
   ]
  },
  {
   "cell_type": "code",
   "execution_count": 510,
   "metadata": {},
   "outputs": [
    {
     "data": {
      "text/plain": [
       "array([[0, 3, 6],\n",
       "       [1, 4, 7],\n",
       "       [2, 5, 8]])"
      ]
     },
     "execution_count": 510,
     "metadata": {},
     "output_type": "execute_result"
    }
   ],
   "source": [
    "np.transpose(A)#forma 1"
   ]
  },
  {
   "cell_type": "code",
   "execution_count": 511,
   "metadata": {},
   "outputs": [
    {
     "data": {
      "text/plain": [
       "array([[0, 3, 6],\n",
       "       [1, 4, 7],\n",
       "       [2, 5, 8]])"
      ]
     },
     "execution_count": 511,
     "metadata": {},
     "output_type": "execute_result"
    }
   ],
   "source": [
    "A.T # forma 2"
   ]
  },
  {
   "cell_type": "markdown",
   "metadata": {},
   "source": [
    "Si quisiera calcular el producto escalar entre dos matrices $A$ y $B$, se utiliza la función `dot`"
   ]
  },
  {
   "cell_type": "code",
   "execution_count": 512,
   "metadata": {},
   "outputs": [
    {
     "data": {
      "text/plain": [
       "array([[ 150,  180,  210],\n",
       "       [ 420,  540,  660],\n",
       "       [ 690,  900, 1110]])"
      ]
     },
     "execution_count": 512,
     "metadata": {},
     "output_type": "execute_result"
    }
   ],
   "source": [
    "np.dot(A,B)"
   ]
  },
  {
   "cell_type": "markdown",
   "metadata": {},
   "source": [
    "También podemos operar sobre un mismo vector, por ejemplo obteniendo la suma de todos sus elementos"
   ]
  },
  {
   "cell_type": "code",
   "execution_count": 513,
   "metadata": {},
   "outputs": [
    {
     "data": {
      "text/plain": [
       "10"
      ]
     },
     "execution_count": 513,
     "metadata": {},
     "output_type": "execute_result"
    }
   ],
   "source": [
    "np.sum(x) "
   ]
  },
  {
   "cell_type": "code",
   "execution_count": 514,
   "metadata": {},
   "outputs": [
    {
     "data": {
      "text/plain": [
       "10"
      ]
     },
     "execution_count": 514,
     "metadata": {},
     "output_type": "execute_result"
    }
   ],
   "source": [
    "x.sum()"
   ]
  },
  {
   "cell_type": "code",
   "execution_count": 515,
   "metadata": {},
   "outputs": [
    {
     "data": {
      "text/plain": [
       "36"
      ]
     },
     "execution_count": 515,
     "metadata": {},
     "output_type": "execute_result"
    }
   ],
   "source": [
    "A.sum() #suma todos los elementos de la matriz A"
   ]
  },
  {
   "cell_type": "code",
   "execution_count": 516,
   "metadata": {},
   "outputs": [
    {
     "data": {
      "text/plain": [
       "array([ 3, 12, 21])"
      ]
     },
     "execution_count": 516,
     "metadata": {},
     "output_type": "execute_result"
    }
   ],
   "source": [
    "A.sum(axis=1) # sumo las filas de la matriz"
   ]
  },
  {
   "cell_type": "code",
   "execution_count": 517,
   "metadata": {},
   "outputs": [
    {
     "data": {
      "text/plain": [
       "array([ 9, 12, 15])"
      ]
     },
     "execution_count": 517,
     "metadata": {},
     "output_type": "execute_result"
    }
   ],
   "source": [
    "A.sum(axis=0) # sumo las columnas de la matriz"
   ]
  },
  {
   "cell_type": "code",
   "execution_count": 518,
   "metadata": {},
   "outputs": [
    {
     "data": {
      "text/plain": [
       "4"
      ]
     },
     "execution_count": 518,
     "metadata": {},
     "output_type": "execute_result"
    }
   ],
   "source": [
    "x.max() #obtengo el máximo de x"
   ]
  },
  {
   "cell_type": "code",
   "execution_count": 519,
   "metadata": {},
   "outputs": [
    {
     "data": {
      "text/plain": [
       "array([2, 5, 8])"
      ]
     },
     "execution_count": 519,
     "metadata": {},
     "output_type": "execute_result"
    }
   ],
   "source": [
    "A.max(axis=1) # obtengo el máximo por fila de la matriz A"
   ]
  },
  {
   "cell_type": "code",
   "execution_count": 520,
   "metadata": {},
   "outputs": [
    {
     "data": {
      "text/plain": [
       "2.5"
      ]
     },
     "execution_count": 520,
     "metadata": {},
     "output_type": "execute_result"
    }
   ],
   "source": [
    "x.mean() #calculo el promedio de los elementos de x"
   ]
  },
  {
   "cell_type": "markdown",
   "metadata": {},
   "source": [
    "Y muchísimas otras funciones más que vienen definidas en la librería. Pueden consultar tanto la [documentación oficial](https://numpy.org/doc/stable/reference/index.html), así como también una gran cantidad de tutoriales para que puedan ir arrancando."
   ]
  },
  {
   "cell_type": "markdown",
   "metadata": {},
   "source": [
    "#### Vectores lógicos\n",
    "\n",
    "A veces queremos hacer comparaciones. Por ejemplo, usando el vector `x` que definí previamente,"
   ]
  },
  {
   "cell_type": "code",
   "execution_count": 521,
   "metadata": {},
   "outputs": [
    {
     "data": {
      "text/plain": [
       "array([ True, False, False, False])"
      ]
     },
     "execution_count": 521,
     "metadata": {},
     "output_type": "execute_result"
    }
   ],
   "source": [
    "x<2"
   ]
  },
  {
   "cell_type": "markdown",
   "metadata": {},
   "source": [
    "Esta operación me devuelve un vector de la misma dimensión que `x` que vale `True` cuando la componente es menor a 2 y `False` cuando no.\n",
    "\n",
    "También puedo querer hacer comparaciones componente a componente entre dos vectores (o matrices)"
   ]
  },
  {
   "cell_type": "code",
   "execution_count": 522,
   "metadata": {},
   "outputs": [
    {
     "data": {
      "text/plain": [
       "array([False,  True, False,  True])"
      ]
     },
     "execution_count": 522,
     "metadata": {},
     "output_type": "execute_result"
    }
   ],
   "source": [
    "x>=y "
   ]
  },
  {
   "cell_type": "code",
   "execution_count": 523,
   "metadata": {},
   "outputs": [
    {
     "data": {
      "text/plain": [
       "array([[ True, False, False],\n",
       "       [False, False, False],\n",
       "       [False, False, False]])"
      ]
     },
     "execution_count": 523,
     "metadata": {},
     "output_type": "execute_result"
    }
   ],
   "source": [
    "A == B # el == compara si los elementos son iguales"
   ]
  },
  {
   "cell_type": "code",
   "execution_count": 524,
   "metadata": {},
   "outputs": [
    {
     "data": {
      "text/plain": [
       "array([ True,  True,  True, False])"
      ]
     },
     "execution_count": 524,
     "metadata": {},
     "output_type": "execute_result"
    }
   ],
   "source": [
    "x!=y # != se usa para ver si los elementos son distintos"
   ]
  },
  {
   "cell_type": "markdown",
   "metadata": {},
   "source": [
    "Otra comparación que a veces resulta útil, es ver qué elementos de un vector (o matriz) pertenecen a un subconjunto de valores"
   ]
  },
  {
   "cell_type": "code",
   "execution_count": 525,
   "metadata": {},
   "outputs": [
    {
     "data": {
      "text/plain": [
       "array([ True, False, False,  True])"
      ]
     },
     "execution_count": 525,
     "metadata": {},
     "output_type": "execute_result"
    }
   ],
   "source": [
    "np.isin(x,[0,5,4,1])"
   ]
  },
  {
   "cell_type": "code",
   "execution_count": 526,
   "metadata": {},
   "outputs": [
    {
     "data": {
      "text/plain": [
       "array([[ True, False, False],\n",
       "       [False, False, False],\n",
       "       [ True, False, False]])"
      ]
     },
     "execution_count": 526,
     "metadata": {},
     "output_type": "execute_result"
    }
   ],
   "source": [
    "np.isin(A, [0,10,12,6])"
   ]
  },
  {
   "cell_type": "code",
   "execution_count": 527,
   "metadata": {},
   "outputs": [
    {
     "data": {
      "text/plain": [
       "array([[ True,  True,  True],\n",
       "       [False, False,  True],\n",
       "       [False, False,  True]])"
      ]
     },
     "execution_count": 527,
     "metadata": {},
     "output_type": "execute_result"
    }
   ],
   "source": [
    "np.isin(A, [[10,8,2],[0,1,5]])"
   ]
  },
  {
   "cell_type": "markdown",
   "metadata": {},
   "source": [
    "#### Bucles\n",
    "\n",
    "Una herramienta muy útil presente en todos los lenguajes de programación son los bucles. Sirven por ejemplo para recorrer una matriz, o correr una porción de código utilizando distintos parámetros de simulación.\n",
    "\n",
    "Posiblemente uno de los más conocidos sea el `for`, que se usa para iterar sobre una secuencia de valores. Esto sirve si sabemos cuántas veces queremos ejecutar cierta porción de código, o bien si quisiéramos evaluar una variable en distintos valores que conocemos a priori.  La sintaxis es \n",
    "\n",
    "`for iterator in sequece: \n",
    "    comando 1            \n",
    "    ...                  `\n",
    "\n",
    "Así como en otro lenguajes como R o C, el comienzo y final de las instrucciones se da encerrándolas entre llaves, `{ comandos }`, en python se indica por la indentacion. Observá que el `for` se encuentra con una indentación y las instrucciones (luego del `:`) están un nivel mas adentro. Cuando finalizas las sentencias que van dentro del for volvés a la indentación original."
   ]
  },
  {
   "cell_type": "code",
   "execution_count": 528,
   "metadata": {},
   "outputs": [
    {
     "name": "stdout",
     "output_type": "stream",
     "text": [
      "1\n",
      "1\n",
      "2\n",
      "6\n",
      "24\n"
     ]
    }
   ],
   "source": [
    "for k in np.arange(5):\n",
    "    factorial = np.product(np.arange(1,k+1)) #computo el factorial de k, armando un vector que vaya de 1 a k \n",
    "                                             #y multiplicando los elementos entre sí. \n",
    "    print(factorial)"
   ]
  },
  {
   "cell_type": "code",
   "execution_count": 529,
   "metadata": {},
   "outputs": [
    {
     "name": "stdout",
     "output_type": "stream",
     "text": [
      "gato\n",
      "perro\n",
      "loro\n",
      "elefante\n"
     ]
    }
   ],
   "source": [
    "for animal in np.array(['gato', 'perro', 'loro', 'elefante']):\n",
    "    print(animal)"
   ]
  },
  {
   "cell_type": "markdown",
   "metadata": {},
   "source": [
    "Otra sentencia super importante es el `if` `else`. Esto sirve para ejecutar un comando si ocurre una condición (y otro en caso que no, esto ultimo es optativo). La sintaxis es de la forma:\n",
    "\n",
    "`if (condicion): \n",
    "    comando 1   \n",
    "    ...         \n",
    "else: \n",
    "    comando 1    \n",
    "    ...       `\n",
    "    \n",
    "\n",
    "Nuevamente, el el comienzo y el fin de cada conjunto de instrucciones se indica con un nuevo nivel de indentación. "
   ]
  },
  {
   "cell_type": "code",
   "execution_count": 530,
   "metadata": {},
   "outputs": [
    {
     "name": "stdout",
     "output_type": "stream",
     "text": [
      "Camina\n",
      "Camina\n",
      "Camina\n",
      "Vuela\n"
     ]
    }
   ],
   "source": [
    "animal = np.array(['gato' , 'perro', 'elefante', 'loro'])\n",
    "for a in animal:\n",
    "    if a == 'loro':\n",
    "        print('Vuela')\n",
    "    else:\n",
    "        print('Camina')"
   ]
  },
  {
   "cell_type": "markdown",
   "metadata": {},
   "source": [
    "Se pueden anidar tanto `if-else` como se desee. Para ello, los `else` intermedios son reemplazados por un `elif`"
   ]
  },
  {
   "cell_type": "code",
   "execution_count": 531,
   "metadata": {},
   "outputs": [
    {
     "name": "stdout",
     "output_type": "stream",
     "text": [
      "Es doméstico\n",
      "Es doméstico\n",
      "Es enorme\n",
      "Vuela\n"
     ]
    }
   ],
   "source": [
    "for a in animal:\n",
    "    if a == 'loro':\n",
    "        print('Vuela')\n",
    "    elif a == 'elefante':\n",
    "        print('Es enorme')\n",
    "    else: \n",
    "        print('Es doméstico')"
   ]
  },
  {
   "cell_type": "markdown",
   "metadata": {},
   "source": [
    "#### Funciones\n",
    "\n",
    "Algo sumamente útil son las funciones. Ya que las definimos una única vez y luego las podemos llamar cuantas veces querramos en nuestro código. La sintaxis para crear funciones es: `def nombre_de_la_funcion(x,y,...): \n",
    "`. Luego la función se ejecuta como \n",
    "`nombre_de_la_función(x,y,...): \n",
    "    instruccion 1 \n",
    "    instruccion 2\n",
    "    ... \n",
    "    return valor1, ... `\n",
    "\n",
    "El `return` al final de la función no es obligatorio, pero es la forma que tenemos de acceder a los resultados de la función. Todas las variables que definamos dentro de la función son locales a la misma, y tanto las variables como los cómputos que no devolvamos en el return queden dentro de la función y no podemos acceder por fuera.\n",
    "    "
   ]
  },
  {
   "cell_type": "code",
   "execution_count": 532,
   "metadata": {},
   "outputs": [
    {
     "data": {
      "text/plain": [
       "array([2.5])"
      ]
     },
     "execution_count": 532,
     "metadata": {},
     "output_type": "execute_result"
    }
   ],
   "source": [
    "def promedio(x):\n",
    "    suma = x.sum()\n",
    "    return suma/x.shape\n",
    "\n",
    "promedio(np.array([1,2,3,4]))"
   ]
  },
  {
   "cell_type": "markdown",
   "metadata": {},
   "source": [
    "En este caso, por ejemplo, una vez que llamamos a la función promedio, solo accedemos al valor del `return` y no tenemos acceso a `suma`. Si te fijas, la variable nunca te va a aparecer en el explorador de variables. \n",
    "\n",
    "Las funciones que armes van a ser tan simples o tan complejas como necesites. También podés crear muchas funciones pequeñal y llamarlas una dentro de otra para crear un código más modularizado. "
   ]
  },
  {
   "cell_type": "code",
   "execution_count": 533,
   "metadata": {},
   "outputs": [
    {
     "data": {
      "text/plain": [
       "array([0.25])"
      ]
     },
     "execution_count": 533,
     "metadata": {},
     "output_type": "execute_result"
    }
   ],
   "source": [
    "def suma_cuadrado(x):\n",
    "    return (x**2).sum() \n",
    "def resto_media(x):\n",
    "    y = x - promedio(x)\n",
    "    return y\n",
    "    \n",
    "def varianza(x):\n",
    "    sigma2 = suma_cuadrado(resto_media(x))/x.shape\n",
    "    return sigma2\n",
    "\n",
    "varianza(np.array([1,2,1,2,1,2]))"
   ]
  },
  {
   "cell_type": "markdown",
   "metadata": {},
   "source": [
    "### Probabilidad\n",
    "\n",
    "Entre muchas de las funciones que tiene Numpy, se pueden generar valores aleatorios a partir de distintas distribuciones. Estas funciones se encuentran dentro del módulo `random`. \n",
    "\n",
    "El caso más elemental es el de generar números aleatorios, es decir uniformes en el intervalo [0,1]. Para ello, usamos la función `rand()` del módulo `random`. Para generar un único número aleatorio basta con escribir"
   ]
  },
  {
   "cell_type": "code",
   "execution_count": 534,
   "metadata": {},
   "outputs": [
    {
     "data": {
      "text/plain": [
       "0.8814204638963415"
      ]
     },
     "execution_count": 534,
     "metadata": {},
     "output_type": "execute_result"
    }
   ],
   "source": [
    "np.random.rand()"
   ]
  },
  {
   "cell_type": "markdown",
   "metadata": {},
   "source": [
    "Si en cambio queremos generar `n` elementos, basta con definir"
   ]
  },
  {
   "cell_type": "code",
   "execution_count": 535,
   "metadata": {},
   "outputs": [
    {
     "data": {
      "text/plain": [
       "array([0.56600262, 0.67568921, 0.92263965, 0.64234101, 0.07173451,\n",
       "       0.08357854, 0.56823127, 0.11666522, 0.04288448, 0.38366199])"
      ]
     },
     "execution_count": 535,
     "metadata": {},
     "output_type": "execute_result"
    }
   ],
   "source": [
    "n=10\n",
    "np.random.rand(n)"
   ]
  },
  {
   "cell_type": "markdown",
   "metadata": {},
   "source": [
    "Si volviéramos a correr estas dos sentencias obtendríamos resulados distintos. Una forma de hacer que el código sea repetible es fijar lo que se llama la semilla. Para ellos se usa la función `seed`, y se le pasa un enero como parámetro. Cualquiera que te guste va a estar bien, pero si cambias el valor de la semilla te van a cambiar los números que obtengas. Es muy importante que este paso lo hagas antes de comenzar a generar datos."
   ]
  },
  {
   "cell_type": "code",
   "execution_count": 536,
   "metadata": {},
   "outputs": [],
   "source": [
    "np.random.seed(0)"
   ]
  },
  {
   "cell_type": "markdown",
   "metadata": {},
   "source": [
    "Otra función que nos va a ser muy útil es `choice`, que elige al azar tantos elementos de un vector como le digamos. Puede ser con o sin reposición."
   ]
  },
  {
   "cell_type": "code",
   "execution_count": 537,
   "metadata": {},
   "outputs": [
    {
     "data": {
      "text/plain": [
       "array([2, 8, 4, 9, 1])"
      ]
     },
     "execution_count": 537,
     "metadata": {},
     "output_type": "execute_result"
    }
   ],
   "source": [
    "np.random.choice(np.arange(10), 5, replace=False)# del vector [0,1,2,...,9] elijo al azas 5 elementos SIN reposicion"
   ]
  },
  {
   "cell_type": "code",
   "execution_count": 538,
   "metadata": {},
   "outputs": [
    {
     "data": {
      "text/plain": [
       "array(['perro', 'leon', 'oso'], dtype='<U5')"
      ]
     },
     "execution_count": 538,
     "metadata": {},
     "output_type": "execute_result"
    }
   ],
   "source": [
    "np.random.choice(['perro', 'gato', 'oso', 'leon'], 3, replace=True)# de los elementos perro, gato, oso, leon \n",
    "                                                                   # elijo al azas 5 elementos SIN reposicion"
   ]
  },
  {
   "cell_type": "markdown",
   "metadata": {},
   "source": [
    "Así como generamos número aleatorios, podemos obtener realizaciones de variables con distintas distribuciones. "
   ]
  },
  {
   "cell_type": "code",
   "execution_count": 539,
   "metadata": {},
   "outputs": [
    {
     "data": {
      "text/plain": [
       "array([-0.05503512, -0.10731045,  1.36546718, -0.09769572, -2.42595457,\n",
       "       -0.4530558 , -0.470771  ,  0.973016  , -1.27814912,  1.43737068])"
      ]
     },
     "execution_count": 539,
     "metadata": {},
     "output_type": "execute_result"
    }
   ],
   "source": [
    "np.random.randn(n) # genera n muestras de una variable con distribución normal estándar"
   ]
  },
  {
   "cell_type": "code",
   "execution_count": 540,
   "metadata": {},
   "outputs": [
    {
     "data": {
      "text/plain": [
       "array([3, 0, 2, 1, 2, 1, 1, 1, 1, 1])"
      ]
     },
     "execution_count": 540,
     "metadata": {},
     "output_type": "execute_result"
    }
   ],
   "source": [
    "m=5\n",
    "p=0.2\n",
    "np.random.binomial(m,p, n)# genera n muestras de una variable con distribucion binomial de parámetros m y p."
   ]
  },
  {
   "cell_type": "code",
   "execution_count": 541,
   "metadata": {},
   "outputs": [
    {
     "data": {
      "text/plain": [
       "array([1.56153497, 2.95754703, 0.94347223, 4.21374028, 1.54552321,\n",
       "       1.37377019, 0.81650911, 2.48178276, 2.80845353, 3.92985676])"
      ]
     },
     "execution_count": 541,
     "metadata": {},
     "output_type": "execute_result"
    }
   ],
   "source": [
    "df = 3\n",
    "np.random.chisquare(df, n) # genera n muestras de una variable con distribucion chi cuadrado con df grados de libertad"
   ]
  },
  {
   "cell_type": "markdown",
   "metadata": {},
   "source": [
    "Existen un montón de distribuciones disponibles, que podes ver en detalle en [este link](https://numpy.org/doc/1.16/reference/routines.random.html)\n",
    "\n",
    "La desventaja de este módulo es que sólo permite generar muestras y no tiene la posibilidad de calcular cuantiles, que muchas veces son necesarios. Sin embargo, existe otra librería, Scipy, que sí tiene estas capacidades. En particular vamos a utilizar el módulo stats. Nuevamente, debemos importarlo. En este caso vamos a importar directamente el módulo y no toda la librería"
   ]
  },
  {
   "cell_type": "code",
   "execution_count": 542,
   "metadata": {},
   "outputs": [],
   "source": [
    "import scipy.stats as stats"
   ]
  },
  {
   "cell_type": "markdown",
   "metadata": {},
   "source": [
    "Para las distintas distribuciones continuas que están implementadas, existen distintos *metodos*, algunos de ellos son  - rvs: genera números aleatorios\n",
    "- pdf: funcion de densidad de probabilidad\n",
    "- cdf: funcion de distribución\n",
    "- sf: función de supervivencia (1-cdf)\n",
    "- ppf: cuantiles (inversa de la cdf)\n",
    "Si queremos trabajar con la distribución normal, por ejemplo"
   ]
  },
  {
   "cell_type": "code",
   "execution_count": 543,
   "metadata": {},
   "outputs": [
    {
     "data": {
      "text/plain": [
       "1.4296607664750955"
      ]
     },
     "execution_count": 543,
     "metadata": {},
     "output_type": "execute_result"
    }
   ],
   "source": [
    "stats.norm.rvs() # genero un valor de la normal estándar"
   ]
  },
  {
   "cell_type": "code",
   "execution_count": 544,
   "metadata": {},
   "outputs": [
    {
     "data": {
      "text/plain": [
       "0.24197072451914337"
      ]
     },
     "execution_count": 544,
     "metadata": {},
     "output_type": "execute_result"
    }
   ],
   "source": [
    "stats.norm.pdf(1)# evaluo la función de densidad en z=1"
   ]
  },
  {
   "cell_type": "code",
   "execution_count": 545,
   "metadata": {},
   "outputs": [
    {
     "data": {
      "text/plain": [
       "0.5"
      ]
     },
     "execution_count": 545,
     "metadata": {},
     "output_type": "execute_result"
    }
   ],
   "source": [
    "stats.norm.cdf(0) # evalúo la funcion de distribucion en 2 "
   ]
  },
  {
   "cell_type": "code",
   "execution_count": 546,
   "metadata": {},
   "outputs": [
    {
     "data": {
      "text/plain": [
       "0.0"
      ]
     },
     "execution_count": 546,
     "metadata": {},
     "output_type": "execute_result"
    }
   ],
   "source": [
    "stats.norm.ppf(0.5) # calculo el cuantil 0.5"
   ]
  },
  {
   "cell_type": "markdown",
   "metadata": {},
   "source": [
    "Podes probar estas funciones con los valores que quieras, o con muchos a la vez. "
   ]
  },
  {
   "cell_type": "code",
   "execution_count": 547,
   "metadata": {},
   "outputs": [
    {
     "data": {
      "text/plain": [
       "array([0.00443185, 0.05399097, 0.24197072, 0.39894228, 0.24197072,\n",
       "       0.05399097, 0.00443185])"
      ]
     },
     "execution_count": 547,
     "metadata": {},
     "output_type": "execute_result"
    }
   ],
   "source": [
    "stats.norm.pdf([-3,-2,-1,0,1,2,3]) # evaluo la funcion de densidad en distintos valore sde z con un paso de 1"
   ]
  },
  {
   "cell_type": "code",
   "execution_count": 548,
   "metadata": {},
   "outputs": [
    {
     "data": {
      "text/plain": [
       "array([0.0013499 , 0.02275013, 0.15865525, 0.5       , 0.84134475,\n",
       "       0.97724987, 0.9986501 ])"
      ]
     },
     "execution_count": 548,
     "metadata": {},
     "output_type": "execute_result"
    }
   ],
   "source": [
    "stats.norm.cdf([-3,-2,-1,0,1,2,3]) # evaluo la funcion de distribucion en distintos valore sde z con un paso de 1"
   ]
  },
  {
   "cell_type": "markdown",
   "metadata": {},
   "source": [
    "En el caso de las variables discretas, los *métodos* son los mismos excepto que cambia la `pdf` por la `pmf` que representa la función de probabilidad"
   ]
  },
  {
   "cell_type": "code",
   "execution_count": 549,
   "metadata": {},
   "outputs": [
    {
     "data": {
      "text/plain": [
       "0"
      ]
     },
     "execution_count": 549,
     "metadata": {},
     "output_type": "execute_result"
    }
   ],
   "source": [
    "stats.binom.rvs(m,p) #genera una muestra de una variable con distribución binomial de parámetros m y p"
   ]
  },
  {
   "cell_type": "code",
   "execution_count": 550,
   "metadata": {},
   "outputs": [
    {
     "data": {
      "text/plain": [
       "array([[1, 3],\n",
       "       [1, 1],\n",
       "       [4, 1]])"
      ]
     },
     "execution_count": 550,
     "metadata": {},
     "output_type": "execute_result"
    }
   ],
   "source": [
    "stats.binom.rvs(m,p, size = [3,2])# genero una matriz de 3x2 de muestras independientes de una variable con distribución bin(3,p)"
   ]
  },
  {
   "cell_type": "code",
   "execution_count": 551,
   "metadata": {},
   "outputs": [
    {
     "data": {
      "text/plain": [
       "0.32768"
      ]
     },
     "execution_count": 551,
     "metadata": {},
     "output_type": "execute_result"
    }
   ],
   "source": [
    "stats.binom.pmf(0, m,p) #me devuelve al valor de la función de probabilidad en 0"
   ]
  },
  {
   "cell_type": "markdown",
   "metadata": {},
   "source": [
    "Una vez que obtenemos las muestras, podemos sacar datos muestrales, como la media muestral o el desvío estándar muestral. Por ejemplo puedo generar 100 muestras de una distribución chi cuadraro con `df` grados de libertad"
   ]
  },
  {
   "cell_type": "code",
   "execution_count": 552,
   "metadata": {},
   "outputs": [
    {
     "data": {
      "text/plain": [
       "3.032143057598038"
      ]
     },
     "execution_count": 552,
     "metadata": {},
     "output_type": "execute_result"
    }
   ],
   "source": [
    "x = stats.chi2.rvs(df, size=100) #genero las 10 muestras\n",
    "x.mean() # calculo la media muestral"
   ]
  },
  {
   "cell_type": "code",
   "execution_count": 553,
   "metadata": {},
   "outputs": [
    {
     "data": {
      "text/plain": [
       "2.37073790419428"
      ]
     },
     "execution_count": 553,
     "metadata": {},
     "output_type": "execute_result"
    }
   ],
   "source": [
    "x.std() # calculo el desvio estandar muestral"
   ]
  },
  {
   "cell_type": "markdown",
   "metadata": {},
   "source": [
    "#### Gráficos"
   ]
  },
  {
   "cell_type": "markdown",
   "metadata": {},
   "source": [
    "Para generar gráficos en Python, la librería básica el Matplotlib, y utilizamos el módulo pyplot"
   ]
  },
  {
   "cell_type": "code",
   "execution_count": 554,
   "metadata": {},
   "outputs": [],
   "source": [
    "import matplotlib.pyplot as plt"
   ]
  },
  {
   "cell_type": "markdown",
   "metadata": {},
   "source": [
    "La función más común para generar un gráfico es `plot`"
   ]
  },
  {
   "cell_type": "code",
   "execution_count": 555,
   "metadata": {},
   "outputs": [],
   "source": [
    "t = 0.1*np.arange(100) #genero indices de tiempo con pasos de 0.1\n",
    "x = np.sin(2*np.pi*0.3*t) #genero un seno de frecuencia 0.3Hz"
   ]
  },
  {
   "cell_type": "code",
   "execution_count": 556,
   "metadata": {},
   "outputs": [
    {
     "data": {
      "text/plain": [
       "[<matplotlib.lines.Line2D at 0x1eff44908c8>]"
      ]
     },
     "execution_count": 556,
     "metadata": {},
     "output_type": "execute_result"
    },
    {
     "data": {
      "image/png": "[encoded data removed]",
      "text/plain": [
       "<Figure size 432x288 with 1 Axes>"
      ]
     },
     "metadata": {
      "needs_background": "light"
     },
     "output_type": "display_data"
    }
   ],
   "source": [
    "plt.plot(t,x)"
   ]
  },
  {
   "cell_type": "markdown",
   "metadata": {},
   "source": [
    "Este es el gráfico más simple. Se puede customizar el color, los marcadores, y agregar etiquetas a cada curva. Para agregar curvas al gráfico simplemente llamamos de nuevo a la función `plot`."
   ]
  },
  {
   "cell_type": "code",
   "execution_count": 557,
   "metadata": {},
   "outputs": [
    {
     "data": {
      "text/plain": [
       "[<matplotlib.lines.Line2D at 0x1eff4503288>]"
      ]
     },
     "execution_count": 557,
     "metadata": {},
     "output_type": "execute_result"
    },
    {
     "data": {
      "image/png": "[encoded data removed]",
      "text/plain": [
       "<Figure size 432x288 with 1 Axes>"
      ]
     },
     "metadata": {
      "needs_background": "light"
     },
     "output_type": "display_data"
    }
   ],
   "source": [
    "y = np.cos(2*np.pi*0.3*t)\n",
    "plt.plot(t,x, label='sin')\n",
    "plt.plot(t,y, color='red', marker='v', label='cos')"
   ]
  },
  {
   "cell_type": "markdown",
   "metadata": {},
   "source": [
    "con las funciones `xlabel` y `ylabel` podemos poner nombre a los ejes de coordenadas, mientras que con `title` elegimos un titulo. Con la función `lagend` transformamos las etiquetas de las curvas en leyendas"
   ]
  },
  {
   "cell_type": "code",
   "execution_count": 558,
   "metadata": {},
   "outputs": [
    {
     "data": {
      "text/plain": [
       "<matplotlib.legend.Legend at 0x1eff45ab988>"
      ]
     },
     "execution_count": 558,
     "metadata": {},
     "output_type": "execute_result"
    },
    {
     "data": {
      "image/png": "[encoded data removed]",
      "text/plain": [
       "<Figure size 432x288 with 1 Axes>"
      ]
     },
     "metadata": {
      "needs_background": "light"
     },
     "output_type": "display_data"
    }
   ],
   "source": [
    "plt.plot(t,x, label='sin')\n",
    "plt.plot(t,y, color='red', marker='v', label='cos')\n",
    "plt.xlabel('t [s]')\n",
    "plt.ylabel('Amplitud')\n",
    "plt.title('Mi gráfico')\n",
    "plt.legend()"
   ]
  },
  {
   "cell_type": "markdown",
   "metadata": {},
   "source": [
    "Otra herramienta particularmente útil que trae `pyplot` es el cálculo de histogramas a partir de datos. Esto se hace con la función `hist`, que además de generar el gráfico nos devuelve las alturas de las barras del histograma y los intervalos (*bins*). "
   ]
  },
  {
   "cell_type": "code",
   "execution_count": 559,
   "metadata": {},
   "outputs": [
    {
     "data": {
      "image/png": "[encoded data removed]",
      "text/plain": [
       "<Figure size 432x288 with 1 Axes>"
      ]
     },
     "metadata": {
      "needs_background": "light"
     },
     "output_type": "display_data"
    }
   ],
   "source": [
    "n = 1000\n",
    "chi = stats.chi2.rvs(df, size=n)\n",
    "n, bins, _ = plt.hist(chi, density=True)"
   ]
  },
  {
   "cell_type": "markdown",
   "metadata": {},
   "source": [
    "Este es el histograma generado automáticamente con 10 bins, lógicamente también podemos indicarle cuantos bins queremos o incluso cuáles queremos que sean los límites de dichos bins. Notar que para que los que obtengamos se corresponda con una densidad, a la función `hist` le pasamos el parámetro `density=True`, sino devuelve la cantidad de muestras en cada intervalo del histograma. \n",
    "\n",
    "Obsérvese, que la función histograma en verdad de vuelve 3 elementos, como el tercero no lo quiero simplemente reemplazo el nombre de la variable por `_`. Esto puede hacerse con cualquier función que devuelva más de un resultado y solo estemos interesados en un subconjunto de los mismos."
   ]
  },
  {
   "cell_type": "code",
   "execution_count": 560,
   "metadata": {},
   "outputs": [
    {
     "data": {
      "image/png": "[encoded data removed]",
      "text/plain": [
       "<Figure size 432x288 with 1 Axes>"
      ]
     },
     "metadata": {
      "needs_background": "light"
     },
     "output_type": "display_data"
    }
   ],
   "source": [
    "n,bins, _ = plt.hist(chi, density=True, bins=20) # si a bins le paso un entero, es a cantidad de bins a usar"
   ]
  },
  {
   "cell_type": "code",
   "execution_count": 561,
   "metadata": {},
   "outputs": [
    {
     "data": {
      "image/png": "[encoded data removed]",
      "text/plain": [
       "<Figure size 432x288 with 1 Axes>"
      ]
     },
     "metadata": {
      "needs_background": "light"
     },
     "output_type": "display_data"
    }
   ],
   "source": [
    "n, bins,_ = plt.hist(chi, density=True, bins=np.array([0,0.5,1,1.5,2,2.5,3,3.5,4,5,6,7,8,9,10]))\n",
    "# si bins es un array, indica los límites de cada bin. Aca no es necesario que tengan igual longitud."
   ]
  },
  {
   "cell_type": "markdown",
   "metadata": {},
   "source": [
    "#### Comentarios finales\n",
    "\n",
    "Este informe es super básico, y existe una cantidad gigante de cosas que se pueden hacer con Python. No tratamos cómo importar datos en nuestro código, que si bien es super importante, queda para una segunda version. "
   ]
  },
  {
   "cell_type": "code",
   "execution_count": null,
   "metadata": {},
   "outputs": [],
   "source": []
  }
 ],
 "metadata": {
  "kernelspec": {
   "display_name": "Python 3",
   "language": "python",
   "name": "python3"
  },
  "language_info": {
   "codemirror_mode": {
    "name": "ipython",
    "version": 3
   },
   "file_extension": ".py",
   "mimetype": "text/x-python",
   "name": "python",
   "nbconvert_exporter": "python",
   "pygments_lexer": "ipython3",
   "version": "3.7.3"
  }
 },
 "nbformat": 4,
 "nbformat_minor": 4
}
